{
 "cells": [
  {
   "cell_type": "code",
   "execution_count": 6,
   "metadata": {},
   "outputs": [
    {
     "name": "stderr",
     "output_type": "stream",
     "text": [
      "Loading checkpoint shards: 100%|██████████| 3/3 [00:05<00:00,  1.76s/it]\n",
      "You provided 'all' as target modules, we will use all the model to which LoRA can be applied.\n"
     ]
    },
    {
     "name": "stdout",
     "output_type": "stream",
     "text": [
      "Rank 0: Model created: 0.000 GiB\n",
      "trainable params: 37,748,736 || all params: 7,279,480,832 || trainable%: 0.518563574397499\n"
     ]
    },
    {
     "data": {
      "text/plain": [
       "('checkpoint/7b-esft_msmarco-50/tokenizer_config.json',\n",
       " 'checkpoint/7b-esft_msmarco-50/special_tokens_map.json',\n",
       " 'checkpoint/7b-esft_msmarco-50/tokenizer.model',\n",
       " 'checkpoint/7b-esft_msmarco-50/added_tokens.json',\n",
       " 'checkpoint/7b-esft_msmarco-50/tokenizer.json')"
      ]
     },
     "execution_count": 6,
     "metadata": {},
     "output_type": "execute_result"
    }
   ],
   "source": [
    "import torch\n",
    "from torch.distributed.fsdp import MixedPrecision, FullyShardedDataParallel as FSDP, FullStateDictConfig, StateDictType\n",
    "from torch.distributed.fsdp.api import CPUOffload, ShardingStrategy\n",
    "from torch.distributed.fsdp.sharded_grad_scaler import ShardedGradScaler\n",
    "import lightning as L\n",
    "from lightning.fabric.strategies import FSDPStrategy\n",
    "from lightning.fabric.utilities.load import _lazy_load as lazy_load\n",
    "from transformers import HfArgumentParser\n",
    "from transformers.models.mistral.modeling_mistral import MistralDecoderLayer\n",
    "\n",
    "from genc.trainer.load_model import load_model\n",
    "from genc.args import DataArguments, ModelArguments, TrainingArguments, ValidationArgument\n",
    "from genc.trainer.trainer_utils import (\n",
    "    choose_logger,\n",
    "    get_default_supported_precision,\n",
    "    get_wrapping_policy,\n",
    ")\n",
    "\n",
    "config_file = \"output/checkpoints/7b-esft_msmarco/config.yaml\"\n",
    "checkpoint_path = \"output/checkpoints/7b-esft_msmarco/checkpoints_1/step_50.ckpt\"\n",
    "\n",
    "parser = HfArgumentParser((DataArguments, ModelArguments, TrainingArguments, ValidationArgument))\n",
    "data_args, model_args, training_args, validation_args = parser.parse_yaml_file(yaml_file=config_file)\n",
    "\n",
    "model, tokenizer = load_model(\n",
    "        model_weights_name_or_path=model_args.model_name_or_path,\n",
    "        use_bidirectional=model_args.use_bidirectional,\n",
    "        normalized=model_args.normalized,\n",
    "        pooling_method=model_args.pooling_method,\n",
    "        loss_gen_type=model_args.loss_gen_type,\n",
    "        temperature=model_args.temperature,\n",
    "        quantization=model_args.quantization,\n",
    "        use_lora=model_args.use_lora,\n",
    "        train_adapter_name=model_args.train_adapter_name,\n",
    "        lora_weights_name_or_path=model_args.lora_weights_name_or_path,\n",
    "        lora_target_modules=[\"all\"],\n",
    "        lora_r=model_args.lora_r,\n",
    "        lora_alpha=model_args.lora_alpha,\n",
    "        lora_dropout=model_args.lora_dropout,\n",
    "        inference=False,\n",
    "        low_memory=training_args.low_memory,\n",
    "        torch_dtype=torch.bfloat16,\n",
    "        compute_dtype=torch.bfloat16,\n",
    "        precision=training_args.precision,\n",
    "        rank=0,\n",
    "        local_rank=0,\n",
    "        gradient_checkpointing=training_args.gradient_checkpointing,\n",
    "        attn_implementation=model_args.attn_implementation,\n",
    "    )\n",
    "\n",
    "checkpoint = torch.load('output/checkpoints/7b-esft_msmarco/checkpoints_1/step_50.ckpt', map_location='cpu')\n",
    "model.load_state_dict(checkpoint['model'])\n",
    "\n",
    "model = model.merge_and_unload()\n",
    "\n",
    "model.save_pretrained('checkpoint/7b-esft_msmarco-50')\n",
    "tokenizer.save_pretrained('checkpoint/7b-esft_msmarco-50')\n",
    "\n",
    "\n"
   ]
  }
 ],
 "metadata": {
  "kernelspec": {
   "display_name": "llm",
   "language": "python",
   "name": "python3"
  },
  "language_info": {
   "codemirror_mode": {
    "name": "ipython",
    "version": 3
   },
   "file_extension": ".py",
   "mimetype": "text/x-python",
   "name": "python",
   "nbconvert_exporter": "python",
   "pygments_lexer": "ipython3",
   "version": "3.10.13"
  }
 },
 "nbformat": 4,
 "nbformat_minor": 2
}
